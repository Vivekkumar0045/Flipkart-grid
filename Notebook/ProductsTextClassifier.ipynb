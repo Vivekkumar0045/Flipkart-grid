{
 "cells": [
  {
   "cell_type": "code",
   "execution_count": 1,
   "id": "696b8df1-3257-4551-9af2-64e8a85b780f",
   "metadata": {},
   "outputs": [],
   "source": [
    "import pandas as pd\n",
    "\n",
    "df = pd.read_csv('product_new.csv')"
   ]
  },
  {
   "cell_type": "code",
   "execution_count": 2,
   "id": "af3e9a52-a314-4bb9-9524-7cbbc906fa42",
   "metadata": {},
   "outputs": [],
   "source": [
    "df['combined'] = df['product name'] + ' ' + df['product description']"
   ]
  },
  {
   "cell_type": "code",
   "execution_count": 4,
   "id": "bfd7fff2-89fa-4b2f-ba7d-537d881573f5",
   "metadata": {},
   "outputs": [
    {
     "name": "stdout",
     "output_type": "stream",
     "text": [
      "0    green lays 20 great flavour perfect crunch 20 ...\n",
      "1    green lays pag mat mild amcor haridwar cpcb re...\n",
      "2    green lays 10014064000435 mkt address scan bar...\n",
      "3    green lays sico india holdings 27 dlf qutab en...\n",
      "4    green lays vour takable cooked cously perfecti...\n",
      "Name: cleaned, dtype: object\n"
     ]
    },
    {
     "name": "stderr",
     "output_type": "stream",
     "text": [
      "[nltk_data] Downloading package stopwords to\n",
      "[nltk_data]     C:\\Users\\Vivek\\AppData\\Roaming\\nltk_data...\n",
      "[nltk_data]   Package stopwords is already up-to-date!\n"
     ]
    }
   ],
   "source": [
    "import pandas as pd\n",
    "import re\n",
    "from nltk.corpus import stopwords\n",
    "\n",
    "import nltk\n",
    "nltk.download('stopwords')\n",
    "stop_words = set(stopwords.words('english'))\n",
    "\n",
    "def preprocess_text(text):\n",
    "    if isinstance(text, float):  \n",
    "        return \"\"\n",
    "    text = str(text).lower() \n",
    "    text = re.sub(r'\\s+', ' ', text)  # Remove extra spaces\n",
    "    text = re.sub(r'[^\\w\\s]', '', text)  # Remove special characters\n",
    "    text = ' '.join([word for word in text.split() if word not in stop_words])  # Remove stopwords\n",
    "    return text\n",
    "\n",
    "df = pd.read_csv('product_new.csv')\n",
    "\n",
    "df['combined'] = df['product name'].fillna('') + ' ' + df['product description'].fillna('')\n",
    "\n",
    "df['cleaned'] = df['combined'].apply(preprocess_text)\n",
    "\n",
    "print(df['cleaned'].head())\n"
   ]
  },
  {
   "cell_type": "code",
   "execution_count": 5,
   "id": "9dd88707-3e26-4edd-afc7-cd7018c223cc",
   "metadata": {},
   "outputs": [],
   "source": [
    "from sklearn.feature_extraction.text import TfidfVectorizer\n",
    "\n",
    "vectorizer = TfidfVectorizer()\n",
    "\n",
    "X = vectorizer.fit_transform(df['cleaned'])\n"
   ]
  },
  {
   "cell_type": "code",
   "execution_count": 6,
   "id": "f42271ef-30aa-475d-baa3-d1b8308b7a40",
   "metadata": {},
   "outputs": [],
   "source": [
    "from sklearn.metrics.pairwise import cosine_similarity\n",
    "\n",
    "cosine_sim = cosine_similarity(X, X)\n"
   ]
  },
  {
   "cell_type": "code",
   "execution_count": 7,
   "id": "30bf546c-866b-4636-914f-5af022812e32",
   "metadata": {},
   "outputs": [],
   "source": [
    "import pickle\n",
    "\n",
    "with open('vectorizer.pkl', 'wb') as f:\n",
    "    pickle.dump(vectorizer, f)\n",
    "    \n",
    "with open('cosine_similarity.pkl', 'wb') as f:\n",
    "    pickle.dump(cosine_sim, f)\n"
   ]
  },
  {
   "cell_type": "code",
   "execution_count": 8,
   "id": "4985c8b2-2cb3-4567-9753-7141807c075f",
   "metadata": {},
   "outputs": [
    {
     "name": "stdout",
     "output_type": "stream",
     "text": [
      "[[0.         0.05614544 0.13521852 0.09715851 0.05502592 0.\n",
      "  0.0644062  0.13554688 0.01243613 0.         0.         0.11607243\n",
      "  0.15177494 0.15516248 0.01058123 0.88353842 0.02036846 0.07210353\n",
      "  0.         0.         0.         0.         0.         0.07110388\n",
      "  0.         0.         0.         0.01171679 0.         0.2253009\n",
      "  0.01195556 0.03352265 0.         0.         0.17960821 0.\n",
      "  0.         0.09587913 0.         0.         0.00789025 0.01081061\n",
      "  0.         0.14163893 0.03824445 0.08388156 0.         0.\n",
      "  0.         0.         0.         0.         0.         0.\n",
      "  0.         0.         0.         0.         0.         0.\n",
      "  0.         0.         0.         0.         0.         0.\n",
      "  0.         0.         0.         0.         0.         0.\n",
      "  0.         0.         0.         0.         0.         0.\n",
      "  0.         0.         0.         0.         0.         0.\n",
      "  0.         0.         0.         0.         0.         0.\n",
      "  0.         0.         0.         0.         0.         0.\n",
      "  0.         0.         0.         0.         0.         0.\n",
      "  0.         0.         0.         0.         0.         0.\n",
      "  0.         0.         0.         0.         0.         0.\n",
      "  0.         0.         0.        ]]\n"
     ]
    }
   ],
   "source": [
    "import pickle\n",
    "from sklearn.metrics.pairwise import cosine_similarity\n",
    "\n",
    "with open('vectorizer.pkl', 'rb') as f:\n",
    "    loaded_vectorizer = pickle.load(f)\n",
    "\n",
    "with open('cosine_similarity.pkl', 'rb') as f:\n",
    "    loaded_cosine_sim = pickle.load(f)\n",
    "\n",
    "new_data = [\"NOUSTRES LTD, PLIT NIE SECTIONE PRATNAGAR, UDKAN SINGH MAGAL RORAPUR SI, UTTARAKHAND Lic. No. 10012012000222, DA SUPER SNACKS PVT LTD, BIA MEERUT HAD ABANUTTAR PRADES HANNA INDUSTRIES LTD, PLOT NO C3, C4 TO C-11, EPIP HAJIPUR INDUSTRIAL AREA, DIST WASHALL BAJPURI, B NDUSTRIES LTD, PLOT NO 621, INDUSTRIAL ESTATE, EMADE KHORCHA ORISSA Lic. No. 2SCURT CO PVT LTD, PUB-BAGAN RACH DET ERICE, PERUNDURA ASSAM Lic. e. 10012470000791 BRITANNIA INDUSTRIES LTD, IS TAVATILA ROAD, KOLKATA TOOL WEST BENGAL Lic. No. 10012001000044-CBHAGWAT PENDERAAPUT KASARA UTTAR PRADESH Lic. No. 1312051000177,50 TANIA INDUSTRIES LTD, PLOT NO MM & SIPCET INDUSTRIAL GROWTH CENTREIN TAMIL NADU L No. 10015020287,6 REAL AGRO INDUSTRIES PVT LTD, SENO ZUA ЖЦА В ЖУЛА, НАЈАВOLLARAM, MEDCHAL MANGAL 17RITANNIA INDUSTRES LTD, PLATNO 2.21 BDA INDUSTRIAL AREA, BALAVEERANA HALLL, BIGAN HOBLI DIST RAMANAGΑΛΑ ANA INDUSTRIES LTD, PUT NO 21, SOC ESTATE, VILLA RANDED JA JAGADIA DIST BHARUCH-1811-10 PALASHBAR DIST KAMRUP GUMAKATI ASSAM Lic. No. 100180710F RANNIA\"]\n",
    "\n",
    "new_vec = loaded_vectorizer.transform(new_data)\n",
    "\n",
    "df_vectorized = loaded_vectorizer.transform(df['cleaned']) \n",
    "\n",
    "similarities = cosine_similarity(new_vec, df_vectorized)\n",
    "\n",
    "print(similarities)\n"
   ]
  },
  {
   "cell_type": "code",
   "execution_count": 9,
   "id": "b011eecf-d51c-44af-8877-61a09cc53731",
   "metadata": {},
   "outputs": [
    {
     "name": "stdout",
     "output_type": "stream",
     "text": [
      "Top 5 similar products:\n",
      "Product: Good day biscuit | Similarity Score: 0.883538420618093\n",
      "Product: Maaza | Similarity Score: 0.22530090209136064\n",
      "Product: Closeup | Similarity Score: 0.17960820763823476\n",
      "Product: kurkure | Similarity Score: 0.15516248176365563\n",
      "Product: Kurkure | Similarity Score: 0.15177494447240103\n"
     ]
    }
   ],
   "source": [
    "import numpy as np\n",
    "\n",
    "similarity_scores = similarities[0]\n",
    "\n",
    "top_5_indices = np.argsort(similarity_scores)[-5:][::-1]  # Sort and reverse for descending order\n",
    "\n",
    "print(\"Top 5 similar products:\")\n",
    "for idx in top_5_indices:\n",
    "    print(f\"Product: {df['product name'].iloc[idx]} | Similarity Score: {similarity_scores[idx]}\")\n"
   ]
  },
  {
   "cell_type": "code",
   "execution_count": 10,
   "id": "8e382178-cb21-4e95-b369-4a2b892ca9ce",
   "metadata": {},
   "outputs": [
    {
     "name": "stdout",
     "output_type": "stream",
     "text": [
      "Top 5 similar products:\n",
      "Product: Good day biscuit | Similarity Score: 0.883538420618093\n",
      "Product: Maaza | Similarity Score: 0.22530090209136064\n",
      "Product: Closeup | Similarity Score: 0.17960820763823476\n",
      "Product: kurkure | Similarity Score: 0.15516248176365563\n",
      "Product: Kurkure | Similarity Score: 0.15177494447240103\n"
     ]
    }
   ],
   "source": [
    "import numpy as np\n",
    "\n",
    "similarity_scores = similarities[0]\n",
    "\n",
    "sorted_indices = np.argsort(similarity_scores)[::-1] \n",
    "\n",
    "unique_products = set()\n",
    "\n",
    "count = 0\n",
    "\n",
    "print(\"Top 5 similar products:\")\n",
    "for idx in sorted_indices:\n",
    "    product_name = df['product name'].iloc[idx]\n",
    "\n",
    "    if product_name not in unique_products:\n",
    "        print(f\"Product: {product_name} | Similarity Score: {similarity_scores[idx]}\")\n",
    "        unique_products.add(product_name) \n",
    "        count += 1\n",
    "        \n",
    "    if count == 5:\n",
    "        break\n"
   ]
  },
  {
   "cell_type": "code",
   "execution_count": null,
   "id": "34af79ad-76f7-4e7a-bbf7-9a76716d8b6e",
   "metadata": {},
   "outputs": [],
   "source": []
  }
 ],
 "metadata": {
  "kernelspec": {
   "display_name": "Python 3 (ipykernel)",
   "language": "python",
   "name": "python3"
  },
  "language_info": {
   "codemirror_mode": {
    "name": "ipython",
    "version": 3
   },
   "file_extension": ".py",
   "mimetype": "text/x-python",
   "name": "python",
   "nbconvert_exporter": "python",
   "pygments_lexer": "ipython3",
   "version": "3.12.0"
  }
 },
 "nbformat": 4,
 "nbformat_minor": 5
}
